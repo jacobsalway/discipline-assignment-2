{
 "cells": [
  {
   "cell_type": "code",
   "execution_count": 2,
   "metadata": {},
   "outputs": [],
   "source": [
    "import pandas as pd\n",
    "import numpy as np\n",
    "import matplotlib.pyplot as plt\n",
    "from scipy import stats\n",
    "\n",
    "from xgboost import XGBClassifier\n",
    "from sklearn.preprocessing import StandardScaler\n",
    "from sklearn.decomposition import PCA\n",
    "from sklearn.model_selection import RandomizedSearchCV, KFold, train_test_split\n",
    "from sklearn.metrics import accuracy_score, recall_score, f1_score, roc_auc_score, confusion_matrix, roc_curve, auc, matthews_corrcoef\n",
    "from imblearn.over_sampling import RandomOverSampler\n",
    "\n",
    "from functools import reduce"
   ]
  },
  {
   "cell_type": "code",
   "execution_count": 3,
   "metadata": {},
   "outputs": [],
   "source": [
    "def load_geneset(name):\n",
    "    gse = pd.read_csv(name + '.csv')\n",
    "    gse = gse.rename(columns={gse.columns[0]: 'gene'})\n",
    "    with open(name + '_y.txt') as file:\n",
    "        data = [x.strip() for x in file.readlines()]\n",
    "        data = ' '.join(data)\n",
    "        y = [int(x) for x in data.split(' ')]\n",
    "    gse = gse.append(dict(zip(gse.columns, ['outcome'] + y)), ignore_index=True)\n",
    "    return gse"
   ]
  },
  {
   "cell_type": "code",
   "execution_count": 4,
   "metadata": {},
   "outputs": [],
   "source": [
    "gse120396 = load_geneset('gse120396')\n",
    "gse120649 = load_geneset('gse120649')\n",
    "gse131179 = load_geneset('gse131179')"
   ]
  },
  {
   "cell_type": "code",
   "execution_count": 40,
   "metadata": {},
   "outputs": [],
   "source": [
    "gse = reduce(lambda l, r: pd.merge(l, r, on='gene'), [gse120396, gse120649, gse131179])\n",
    "y = gse[gse.gene == 'outcome']\n",
    "gse = gse.drop(y.index)\n",
    "gse = gse.set_index('gene').transpose()\n",
    "#pca = PCA(n_components=100)\n",
    "#principal_components = pca.fit_transform(gse)\n",
    "\n",
    "X = gse.loc[:,~gse.columns.duplicated()] # pd.DataFrame(data=principal_components)\n",
    "y = y.drop('gene', axis=1).squeeze()\n",
    "\n",
    "mapping = {0: gse120396.columns.values, 1: gse120649.columns.values, 2: gse131179.columns.values}\n",
    "rows = X.index\n",
    "\n",
    "def which_source(x):\n",
    "    if x in mapping[0]:\n",
    "        return 120396\n",
    "    if x in mapping[1]:\n",
    "        return 120649\n",
    "    if x in mapping[2]:\n",
    "        return 131179\n",
    "    \n",
    "c = list(map(which_source, rows))\n",
    "\n",
    "strat = [str(a) + str(b) for a, b in zip(y, c)]\n",
    "\n",
    "X_train, X_test, y_train, y_test = train_test_split(X, y, test_size=0.2, stratify=strat)"
   ]
  },
  {
   "cell_type": "code",
   "execution_count": 41,
   "metadata": {},
   "outputs": [],
   "source": [
    "from itertools import permutations\n",
    "        \n",
    "class Result:\n",
    "    def __init__(self, y_truth, y_pred):\n",
    "        self.y_truth = y_truth\n",
    "        self.y_pred = y_pred\n",
    "\n",
    "max_depth = [x for x in range(1,11)]\n",
    "gamma = [x / 2 for x in range(0,41,5)]\n",
    "alpha = [x / 10 for x in range(0, 11)]\n",
    "\n",
    "hyperparam_perms = [(i, j, k) for i in max_depth for j in gamma for k in alpha]"
   ]
  },
  {
   "cell_type": "code",
   "execution_count": 42,
   "metadata": {},
   "outputs": [
    {
     "data": {
      "text/plain": [
       "'990/990'"
      ]
     },
     "metadata": {},
     "output_type": "display_data"
    }
   ],
   "source": [
    "from IPython.display import display, clear_output\n",
    "\n",
    "final_results = {}\n",
    "\n",
    "for i, hyperparam_set in enumerate(hyperparam_perms):\n",
    "    clear_output(wait=True)\n",
    "    display(str(i+1) + '/' + str(len(hyperparam_perms)))\n",
    "    max_depth = hyperparam_set[0]\n",
    "    gamma = hyperparam_set[1]\n",
    "    alpha = hyperparam_set[2]\n",
    "    \n",
    "    model = XGBClassifier(objective='binary:logistic', max_depth=max_depth, gamma=gamma, alpha=alpha)\n",
    "    results = np.zeros(len(X_test))\n",
    "    \n",
    "    X_train_t, X_val, y_train_t, y_val = train_test_split(X_train, y_train, test_size=0.1, stratify=y_train)\n",
    "    \n",
    "    sm = RandomOverSampler(sampling_strategy=1.0)\n",
    "    X_train_t_res, y_train_t_res = sm.fit_resample(X_train_t, y_train_t)\n",
    "\n",
    "    model.fit(X_train_t_res, y_train_t_res, verbose=False, early_stopping_rounds=10, eval_metric='auc', eval_set=[(X_val, y_val)])\n",
    "    \n",
    "    final_results[hyperparam_set] = Result(y_test, model.predict_proba(X_test)[:,1])"
   ]
  },
  {
   "cell_type": "code",
   "execution_count": 43,
   "metadata": {},
   "outputs": [],
   "source": [
    "df = pd.DataFrame(columns=['max_depth', 'gamma', 'alpha', 'truth', 'pred'])\n",
    "\n",
    "for key, value in final_results.items():\n",
    "    row = [key[0], key[1], key[2], value.y_truth.tolist(), value.y_pred]\n",
    "    df = df.append(pd.DataFrame([row], columns=df.columns))"
   ]
  },
  {
   "cell_type": "code",
   "execution_count": 44,
   "metadata": {},
   "outputs": [],
   "source": [
    "df.to_json('hyperparam_results.json', orient='records')"
   ]
  }
 ],
 "metadata": {
  "kernelspec": {
   "display_name": "Python [conda env:cenv]",
   "language": "python",
   "name": "conda-env-cenv-py"
  },
  "language_info": {
   "codemirror_mode": {
    "name": "ipython",
    "version": 3
   },
   "file_extension": ".py",
   "mimetype": "text/x-python",
   "name": "python",
   "nbconvert_exporter": "python",
   "pygments_lexer": "ipython3",
   "version": "3.7.7"
  }
 },
 "nbformat": 4,
 "nbformat_minor": 4
}
